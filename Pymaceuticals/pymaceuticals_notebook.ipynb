{
 "cells": [
  {
   "cell_type": "markdown",
   "metadata": {},
   "source": [
    "## Observations and Insights \n",
    "\n",
    "1) Capomulin has been shown to reduce tumor volume over time.\n",
    "\n",
    "2) Capomulin is comparable to Remicane in keeping final tumor volume reduced compared to the other leading drug regimens.\n",
    "\n",
    "3) Capomulin and Ramicane  both have similar statistical results when looking at the statistical summaries that compare all\n",
    "   of the leading drug regimens."
   ]
  },
  {
   "cell_type": "markdown",
   "metadata": {},
   "source": []
  },
  {
   "cell_type": "code",
   "execution_count": 1,
   "metadata": {},
   "outputs": [
    {
     "data": {
      "text/html": [
       "<div>\n",
       "<style scoped>\n",
       "    .dataframe tbody tr th:only-of-type {\n",
       "        vertical-align: middle;\n",
       "    }\n",
       "\n",
       "    .dataframe tbody tr th {\n",
       "        vertical-align: top;\n",
       "    }\n",
       "\n",
       "    .dataframe thead th {\n",
       "        text-align: right;\n",
       "    }\n",
       "</style>\n",
       "<table border=\"1\" class=\"dataframe\">\n",
       "  <thead>\n",
       "    <tr style=\"text-align: right;\">\n",
       "      <th></th>\n",
       "      <th>Mouse ID</th>\n",
       "      <th>Drug Regimen</th>\n",
       "      <th>Sex</th>\n",
       "      <th>Age_months</th>\n",
       "      <th>Weight (g)</th>\n",
       "      <th>Timepoint</th>\n",
       "      <th>Tumor Volume (mm3)</th>\n",
       "      <th>Metastatic Sites</th>\n",
       "    </tr>\n",
       "  </thead>\n",
       "  <tbody>\n",
       "    <tr>\n",
       "      <th>454</th>\n",
       "      <td>a203</td>\n",
       "      <td>Infubinol</td>\n",
       "      <td>Female</td>\n",
       "      <td>20</td>\n",
       "      <td>23</td>\n",
       "      <td>0</td>\n",
       "      <td>45.000000</td>\n",
       "      <td>0</td>\n",
       "    </tr>\n",
       "    <tr>\n",
       "      <th>455</th>\n",
       "      <td>a203</td>\n",
       "      <td>Infubinol</td>\n",
       "      <td>Female</td>\n",
       "      <td>20</td>\n",
       "      <td>23</td>\n",
       "      <td>5</td>\n",
       "      <td>48.508468</td>\n",
       "      <td>0</td>\n",
       "    </tr>\n",
       "    <tr>\n",
       "      <th>456</th>\n",
       "      <td>a203</td>\n",
       "      <td>Infubinol</td>\n",
       "      <td>Female</td>\n",
       "      <td>20</td>\n",
       "      <td>23</td>\n",
       "      <td>10</td>\n",
       "      <td>51.852437</td>\n",
       "      <td>1</td>\n",
       "    </tr>\n",
       "    <tr>\n",
       "      <th>457</th>\n",
       "      <td>a203</td>\n",
       "      <td>Infubinol</td>\n",
       "      <td>Female</td>\n",
       "      <td>20</td>\n",
       "      <td>23</td>\n",
       "      <td>15</td>\n",
       "      <td>52.777870</td>\n",
       "      <td>1</td>\n",
       "    </tr>\n",
       "    <tr>\n",
       "      <th>458</th>\n",
       "      <td>a203</td>\n",
       "      <td>Infubinol</td>\n",
       "      <td>Female</td>\n",
       "      <td>20</td>\n",
       "      <td>23</td>\n",
       "      <td>20</td>\n",
       "      <td>55.173336</td>\n",
       "      <td>1</td>\n",
       "    </tr>\n",
       "  </tbody>\n",
       "</table>\n",
       "</div>"
      ],
      "text/plain": [
       "    Mouse ID Drug Regimen     Sex  Age_months  Weight (g)  Timepoint  \\\n",
       "454     a203    Infubinol  Female          20          23          0   \n",
       "455     a203    Infubinol  Female          20          23          5   \n",
       "456     a203    Infubinol  Female          20          23         10   \n",
       "457     a203    Infubinol  Female          20          23         15   \n",
       "458     a203    Infubinol  Female          20          23         20   \n",
       "\n",
       "     Tumor Volume (mm3)  Metastatic Sites  \n",
       "454           45.000000                 0  \n",
       "455           48.508468                 0  \n",
       "456           51.852437                 1  \n",
       "457           52.777870                 1  \n",
       "458           55.173336                 1  "
      ]
     },
     "execution_count": 1,
     "metadata": {},
     "output_type": "execute_result"
    }
   ],
   "source": [
    "# Dependencies and Setup\n",
    "import matplotlib.pyplot as plt\n",
    "import pandas as pd\n",
    "import scipy.stats as st\n",
    "from scipy.stats import linregress\n",
    "import numpy as np\n",
    "\n",
    "# Study data files\n",
    "mouse_metadata_path = \"data/Mouse_metadata.csv\"\n",
    "study_results_path = \"data/Study_results.csv\"\n",
    "\n",
    "# Read the mouse data and the study results\n",
    "mouse_metadata = pd.read_csv(mouse_metadata_path)\n",
    "study_results = pd.read_csv(study_results_path)\n",
    "\n",
    "# Combine the data into a single dataset\n",
    "mouse_results_df = pd.merge(mouse_metadata, study_results, how = \"outer\", on=\"Mouse ID\")\n",
    "# Display the data table for preview\n",
    "mouse_results_df.sort_values([\"Mouse ID\", \"Timepoint\"]).head()"
   ]
  },
  {
   "cell_type": "code",
   "execution_count": 2,
   "metadata": {},
   "outputs": [
    {
     "name": "stdout",
     "output_type": "stream",
     "text": [
      "The total number of mice in the dataset: 249\n"
     ]
    }
   ],
   "source": [
    "# Checking the number of mice.\n",
    "num_mice = len(mouse_results_df[\"Mouse ID\"].unique())\n",
    "print(f'The total number of mice in the dataset: {num_mice}')"
   ]
  },
  {
   "cell_type": "code",
   "execution_count": 3,
   "metadata": {},
   "outputs": [
    {
     "name": "stdout",
     "output_type": "stream",
     "text": [
      "The duplicate mouse id's for Mouse ID and Timepoint include: ['g989']\n"
     ]
    }
   ],
   "source": [
    "# Getting the duplicate mice by ID number that shows up for Mouse ID and Timepoint. \n",
    "\n",
    "id_timepoint_filter = mouse_results_df.duplicated(subset=[\"Mouse ID\", \"Timepoint\"], keep=\"first\")\n",
    "duplicate_mouse_df = mouse_results_df[id_timepoint_filter]\n",
    "\n",
    "duplicate_mouse_id = duplicate_mouse_df[\"Mouse ID\"]\n",
    "duplicate_mouse_id = duplicate_mouse_id.unique()\n",
    "print(f\"The duplicate mouse id's for Mouse ID and Timepoint include: {duplicate_mouse_id}\")"
   ]
  },
  {
   "cell_type": "code",
   "execution_count": 4,
   "metadata": {},
   "outputs": [
    {
     "data": {
      "text/html": [
       "<div>\n",
       "<style scoped>\n",
       "    .dataframe tbody tr th:only-of-type {\n",
       "        vertical-align: middle;\n",
       "    }\n",
       "\n",
       "    .dataframe tbody tr th {\n",
       "        vertical-align: top;\n",
       "    }\n",
       "\n",
       "    .dataframe thead th {\n",
       "        text-align: right;\n",
       "    }\n",
       "</style>\n",
       "<table border=\"1\" class=\"dataframe\">\n",
       "  <thead>\n",
       "    <tr style=\"text-align: right;\">\n",
       "      <th></th>\n",
       "      <th>Mouse ID</th>\n",
       "      <th>Drug Regimen</th>\n",
       "      <th>Sex</th>\n",
       "      <th>Age_months</th>\n",
       "      <th>Weight (g)</th>\n",
       "      <th>Timepoint</th>\n",
       "      <th>Tumor Volume (mm3)</th>\n",
       "      <th>Metastatic Sites</th>\n",
       "    </tr>\n",
       "  </thead>\n",
       "  <tbody>\n",
       "    <tr>\n",
       "      <th>909</th>\n",
       "      <td>g989</td>\n",
       "      <td>Propriva</td>\n",
       "      <td>Female</td>\n",
       "      <td>21</td>\n",
       "      <td>26</td>\n",
       "      <td>0</td>\n",
       "      <td>45.000000</td>\n",
       "      <td>0</td>\n",
       "    </tr>\n",
       "    <tr>\n",
       "      <th>911</th>\n",
       "      <td>g989</td>\n",
       "      <td>Propriva</td>\n",
       "      <td>Female</td>\n",
       "      <td>21</td>\n",
       "      <td>26</td>\n",
       "      <td>5</td>\n",
       "      <td>47.570392</td>\n",
       "      <td>0</td>\n",
       "    </tr>\n",
       "    <tr>\n",
       "      <th>913</th>\n",
       "      <td>g989</td>\n",
       "      <td>Propriva</td>\n",
       "      <td>Female</td>\n",
       "      <td>21</td>\n",
       "      <td>26</td>\n",
       "      <td>10</td>\n",
       "      <td>49.880528</td>\n",
       "      <td>0</td>\n",
       "    </tr>\n",
       "    <tr>\n",
       "      <th>915</th>\n",
       "      <td>g989</td>\n",
       "      <td>Propriva</td>\n",
       "      <td>Female</td>\n",
       "      <td>21</td>\n",
       "      <td>26</td>\n",
       "      <td>15</td>\n",
       "      <td>53.442020</td>\n",
       "      <td>0</td>\n",
       "    </tr>\n",
       "    <tr>\n",
       "      <th>917</th>\n",
       "      <td>g989</td>\n",
       "      <td>Propriva</td>\n",
       "      <td>Female</td>\n",
       "      <td>21</td>\n",
       "      <td>26</td>\n",
       "      <td>20</td>\n",
       "      <td>54.657650</td>\n",
       "      <td>1</td>\n",
       "    </tr>\n",
       "  </tbody>\n",
       "</table>\n",
       "</div>"
      ],
      "text/plain": [
       "    Mouse ID Drug Regimen     Sex  Age_months  Weight (g)  Timepoint  \\\n",
       "909     g989     Propriva  Female          21          26          0   \n",
       "911     g989     Propriva  Female          21          26          5   \n",
       "913     g989     Propriva  Female          21          26         10   \n",
       "915     g989     Propriva  Female          21          26         15   \n",
       "917     g989     Propriva  Female          21          26         20   \n",
       "\n",
       "     Tumor Volume (mm3)  Metastatic Sites  \n",
       "909           45.000000                 0  \n",
       "911           47.570392                 0  \n",
       "913           49.880528                 0  \n",
       "915           53.442020                 0  \n",
       "917           54.657650                 1  "
      ]
     },
     "execution_count": 4,
     "metadata": {},
     "output_type": "execute_result"
    }
   ],
   "source": [
    "# Optional: Get all the data for the duplicate mouse ID. \n",
    "duplicate_mouse_df"
   ]
  },
  {
   "cell_type": "code",
   "execution_count": 5,
   "metadata": {},
   "outputs": [
    {
     "data": {
      "text/html": [
       "<div>\n",
       "<style scoped>\n",
       "    .dataframe tbody tr th:only-of-type {\n",
       "        vertical-align: middle;\n",
       "    }\n",
       "\n",
       "    .dataframe tbody tr th {\n",
       "        vertical-align: top;\n",
       "    }\n",
       "\n",
       "    .dataframe thead th {\n",
       "        text-align: right;\n",
       "    }\n",
       "</style>\n",
       "<table border=\"1\" class=\"dataframe\">\n",
       "  <thead>\n",
       "    <tr style=\"text-align: right;\">\n",
       "      <th></th>\n",
       "      <th>Mouse ID</th>\n",
       "      <th>Drug Regimen</th>\n",
       "      <th>Sex</th>\n",
       "      <th>Age_months</th>\n",
       "      <th>Weight (g)</th>\n",
       "      <th>Timepoint</th>\n",
       "      <th>Tumor Volume (mm3)</th>\n",
       "      <th>Metastatic Sites</th>\n",
       "    </tr>\n",
       "  </thead>\n",
       "  <tbody>\n",
       "    <tr>\n",
       "      <th>0</th>\n",
       "      <td>k403</td>\n",
       "      <td>Ramicane</td>\n",
       "      <td>Male</td>\n",
       "      <td>21</td>\n",
       "      <td>16</td>\n",
       "      <td>0</td>\n",
       "      <td>45.000000</td>\n",
       "      <td>0</td>\n",
       "    </tr>\n",
       "    <tr>\n",
       "      <th>1</th>\n",
       "      <td>k403</td>\n",
       "      <td>Ramicane</td>\n",
       "      <td>Male</td>\n",
       "      <td>21</td>\n",
       "      <td>16</td>\n",
       "      <td>5</td>\n",
       "      <td>38.825898</td>\n",
       "      <td>0</td>\n",
       "    </tr>\n",
       "    <tr>\n",
       "      <th>2</th>\n",
       "      <td>k403</td>\n",
       "      <td>Ramicane</td>\n",
       "      <td>Male</td>\n",
       "      <td>21</td>\n",
       "      <td>16</td>\n",
       "      <td>10</td>\n",
       "      <td>35.014271</td>\n",
       "      <td>1</td>\n",
       "    </tr>\n",
       "    <tr>\n",
       "      <th>3</th>\n",
       "      <td>k403</td>\n",
       "      <td>Ramicane</td>\n",
       "      <td>Male</td>\n",
       "      <td>21</td>\n",
       "      <td>16</td>\n",
       "      <td>15</td>\n",
       "      <td>34.223992</td>\n",
       "      <td>1</td>\n",
       "    </tr>\n",
       "    <tr>\n",
       "      <th>4</th>\n",
       "      <td>k403</td>\n",
       "      <td>Ramicane</td>\n",
       "      <td>Male</td>\n",
       "      <td>21</td>\n",
       "      <td>16</td>\n",
       "      <td>20</td>\n",
       "      <td>32.997729</td>\n",
       "      <td>1</td>\n",
       "    </tr>\n",
       "  </tbody>\n",
       "</table>\n",
       "</div>"
      ],
      "text/plain": [
       "  Mouse ID Drug Regimen   Sex  Age_months  Weight (g)  Timepoint  \\\n",
       "0     k403     Ramicane  Male          21          16          0   \n",
       "1     k403     Ramicane  Male          21          16          5   \n",
       "2     k403     Ramicane  Male          21          16         10   \n",
       "3     k403     Ramicane  Male          21          16         15   \n",
       "4     k403     Ramicane  Male          21          16         20   \n",
       "\n",
       "   Tumor Volume (mm3)  Metastatic Sites  \n",
       "0           45.000000                 0  \n",
       "1           38.825898                 0  \n",
       "2           35.014271                 1  \n",
       "3           34.223992                 1  \n",
       "4           32.997729                 1  "
      ]
     },
     "execution_count": 5,
     "metadata": {},
     "output_type": "execute_result"
    }
   ],
   "source": [
    "# Create a clean DataFrame by dropping the duplicate mouse by its ID.\n",
    "mouse_results_df.drop_duplicates(subset = [\"Mouse ID\", \"Timepoint\"], keep=\"first\", inplace=True)\n",
    "mouse_results_df.head()"
   ]
  },
  {
   "cell_type": "code",
   "execution_count": 6,
   "metadata": {},
   "outputs": [
    {
     "name": "stdout",
     "output_type": "stream",
     "text": [
      "The number of mice in the clean DataFrame: 249\n"
     ]
    }
   ],
   "source": [
    "# Checking the number of mice in the clean DataFrame\n",
    "num_mice_clean_df = len(mouse_results_df[\"Mouse ID\"].unique())\n",
    "print(f'The number of mice in the clean DataFrame: {num_mice_clean_df}')"
   ]
  },
  {
   "cell_type": "markdown",
   "metadata": {},
   "source": [
    "## Summary Statistics"
   ]
  },
  {
   "cell_type": "code",
   "execution_count": 7,
   "metadata": {},
   "outputs": [
    {
     "data": {
      "text/html": [
       "<div>\n",
       "<style scoped>\n",
       "    .dataframe tbody tr th:only-of-type {\n",
       "        vertical-align: middle;\n",
       "    }\n",
       "\n",
       "    .dataframe tbody tr th {\n",
       "        vertical-align: top;\n",
       "    }\n",
       "\n",
       "    .dataframe thead th {\n",
       "        text-align: right;\n",
       "    }\n",
       "</style>\n",
       "<table border=\"1\" class=\"dataframe\">\n",
       "  <thead>\n",
       "    <tr style=\"text-align: right;\">\n",
       "      <th></th>\n",
       "      <th>Tumor Volume (mm3) - Mean</th>\n",
       "      <th>Tumor Volume (mm3) - Median</th>\n",
       "      <th>Tumor Volume (mm3) - VAR</th>\n",
       "      <th>Tumor Volume - STD</th>\n",
       "      <th>Tumor Volume (mm3) - SEM</th>\n",
       "    </tr>\n",
       "    <tr>\n",
       "      <th>Drug Regimen</th>\n",
       "      <th></th>\n",
       "      <th></th>\n",
       "      <th></th>\n",
       "      <th></th>\n",
       "      <th></th>\n",
       "    </tr>\n",
       "  </thead>\n",
       "  <tbody>\n",
       "    <tr>\n",
       "      <th>Capomulin</th>\n",
       "      <td>40.675741</td>\n",
       "      <td>41.557809</td>\n",
       "      <td>24.947764</td>\n",
       "      <td>4.994774</td>\n",
       "      <td>0.329346</td>\n",
       "    </tr>\n",
       "    <tr>\n",
       "      <th>Ceftamin</th>\n",
       "      <td>52.591172</td>\n",
       "      <td>51.776157</td>\n",
       "      <td>39.290177</td>\n",
       "      <td>6.268188</td>\n",
       "      <td>0.469821</td>\n",
       "    </tr>\n",
       "    <tr>\n",
       "      <th>Infubinol</th>\n",
       "      <td>52.884795</td>\n",
       "      <td>51.820584</td>\n",
       "      <td>43.128684</td>\n",
       "      <td>6.567243</td>\n",
       "      <td>0.492236</td>\n",
       "    </tr>\n",
       "    <tr>\n",
       "      <th>Ketapril</th>\n",
       "      <td>55.235638</td>\n",
       "      <td>53.698743</td>\n",
       "      <td>68.553577</td>\n",
       "      <td>8.279709</td>\n",
       "      <td>0.603860</td>\n",
       "    </tr>\n",
       "    <tr>\n",
       "      <th>Naftisol</th>\n",
       "      <td>54.331565</td>\n",
       "      <td>52.509285</td>\n",
       "      <td>66.173479</td>\n",
       "      <td>8.134708</td>\n",
       "      <td>0.596466</td>\n",
       "    </tr>\n",
       "    <tr>\n",
       "      <th>Placebo</th>\n",
       "      <td>54.033581</td>\n",
       "      <td>52.288934</td>\n",
       "      <td>61.168083</td>\n",
       "      <td>7.821003</td>\n",
       "      <td>0.581331</td>\n",
       "    </tr>\n",
       "    <tr>\n",
       "      <th>Propriva</th>\n",
       "      <td>52.393463</td>\n",
       "      <td>50.909965</td>\n",
       "      <td>43.138803</td>\n",
       "      <td>6.568014</td>\n",
       "      <td>0.525862</td>\n",
       "    </tr>\n",
       "    <tr>\n",
       "      <th>Ramicane</th>\n",
       "      <td>40.216745</td>\n",
       "      <td>40.673236</td>\n",
       "      <td>23.486704</td>\n",
       "      <td>4.846308</td>\n",
       "      <td>0.320955</td>\n",
       "    </tr>\n",
       "    <tr>\n",
       "      <th>Stelasyn</th>\n",
       "      <td>54.233149</td>\n",
       "      <td>52.431737</td>\n",
       "      <td>59.450562</td>\n",
       "      <td>7.710419</td>\n",
       "      <td>0.573111</td>\n",
       "    </tr>\n",
       "    <tr>\n",
       "      <th>Zoniferol</th>\n",
       "      <td>53.236507</td>\n",
       "      <td>51.818479</td>\n",
       "      <td>48.533355</td>\n",
       "      <td>6.966589</td>\n",
       "      <td>0.516398</td>\n",
       "    </tr>\n",
       "  </tbody>\n",
       "</table>\n",
       "</div>"
      ],
      "text/plain": [
       "              Tumor Volume (mm3) - Mean  Tumor Volume (mm3) - Median  \\\n",
       "Drug Regimen                                                           \n",
       "Capomulin                     40.675741                    41.557809   \n",
       "Ceftamin                      52.591172                    51.776157   \n",
       "Infubinol                     52.884795                    51.820584   \n",
       "Ketapril                      55.235638                    53.698743   \n",
       "Naftisol                      54.331565                    52.509285   \n",
       "Placebo                       54.033581                    52.288934   \n",
       "Propriva                      52.393463                    50.909965   \n",
       "Ramicane                      40.216745                    40.673236   \n",
       "Stelasyn                      54.233149                    52.431737   \n",
       "Zoniferol                     53.236507                    51.818479   \n",
       "\n",
       "              Tumor Volume (mm3) - VAR  Tumor Volume - STD  \\\n",
       "Drug Regimen                                                 \n",
       "Capomulin                    24.947764            4.994774   \n",
       "Ceftamin                     39.290177            6.268188   \n",
       "Infubinol                    43.128684            6.567243   \n",
       "Ketapril                     68.553577            8.279709   \n",
       "Naftisol                     66.173479            8.134708   \n",
       "Placebo                      61.168083            7.821003   \n",
       "Propriva                     43.138803            6.568014   \n",
       "Ramicane                     23.486704            4.846308   \n",
       "Stelasyn                     59.450562            7.710419   \n",
       "Zoniferol                    48.533355            6.966589   \n",
       "\n",
       "              Tumor Volume (mm3) - SEM  \n",
       "Drug Regimen                            \n",
       "Capomulin                     0.329346  \n",
       "Ceftamin                      0.469821  \n",
       "Infubinol                     0.492236  \n",
       "Ketapril                      0.603860  \n",
       "Naftisol                      0.596466  \n",
       "Placebo                       0.581331  \n",
       "Propriva                      0.525862  \n",
       "Ramicane                      0.320955  \n",
       "Stelasyn                      0.573111  \n",
       "Zoniferol                     0.516398  "
      ]
     },
     "execution_count": 7,
     "metadata": {},
     "output_type": "execute_result"
    }
   ],
   "source": [
    "# Generate a summary statistics table of mean, median, variance, standard deviation, and SEM of the tumor volume for each regimen\n",
    "regimen_groups = mouse_results_df.groupby([\"Drug Regimen\"])\n",
    "\n",
    "regimen_mean = regimen_groups[\"Tumor Volume (mm3)\"].mean()\n",
    "regimen_mean.rename(\"Tumor Volume (mm3) - Mean\", inplace = True)\n",
    "\n",
    "regimen_median = regimen_groups[\"Tumor Volume (mm3)\"].median()\n",
    "regimen_median.rename(\"Tumor Volume (mm3) - Median\", inplace = True)\n",
    "\n",
    "regimen_variance = regimen_groups[\"Tumor Volume (mm3)\"].var()\n",
    "regimen_variance.rename(\"Tumor Volume (mm3) - VAR\", inplace = True)\n",
    "\n",
    "regimen_std = regimen_groups[\"Tumor Volume (mm3)\"].std()\n",
    "regimen_std.rename(\"Tumor Volume - STD\", inplace = True)\n",
    "\n",
    "regimen_sem = regimen_groups[\"Tumor Volume (mm3)\"].sem()\n",
    "regimen_sem.rename(\"Tumor Volume (mm3) - SEM\", inplace = True)\n",
    "\n",
    "# This method is the most straighforward, creating multiple series and putting them all together at the end.\n",
    "regimen_sum_stats_df = pd.concat([regimen_mean, regimen_median, regimen_variance, regimen_std, regimen_sem], axis = 1)\n",
    "regimen_sum_stats_df\n"
   ]
  },
  {
   "cell_type": "code",
   "execution_count": 8,
   "metadata": {},
   "outputs": [
    {
     "data": {
      "text/html": [
       "<div>\n",
       "<style scoped>\n",
       "    .dataframe tbody tr th:only-of-type {\n",
       "        vertical-align: middle;\n",
       "    }\n",
       "\n",
       "    .dataframe tbody tr th {\n",
       "        vertical-align: top;\n",
       "    }\n",
       "\n",
       "    .dataframe thead th {\n",
       "        text-align: right;\n",
       "    }\n",
       "</style>\n",
       "<table border=\"1\" class=\"dataframe\">\n",
       "  <thead>\n",
       "    <tr style=\"text-align: right;\">\n",
       "      <th></th>\n",
       "      <th>Tumor Volume (mm3) - Mean</th>\n",
       "      <th>Tumor Volume (mm3) - Median</th>\n",
       "      <th>Tumor Volume (mm3) - VAR</th>\n",
       "      <th>Tumor Volume (mm3) - STD</th>\n",
       "      <th>Tumor Volume (mm3) - SEM</th>\n",
       "    </tr>\n",
       "    <tr>\n",
       "      <th>Drug Regimen</th>\n",
       "      <th></th>\n",
       "      <th></th>\n",
       "      <th></th>\n",
       "      <th></th>\n",
       "      <th></th>\n",
       "    </tr>\n",
       "  </thead>\n",
       "  <tbody>\n",
       "    <tr>\n",
       "      <th>Capomulin</th>\n",
       "      <td>40.675741</td>\n",
       "      <td>41.557809</td>\n",
       "      <td>24.947764</td>\n",
       "      <td>4.994774</td>\n",
       "      <td>0.329346</td>\n",
       "    </tr>\n",
       "    <tr>\n",
       "      <th>Ceftamin</th>\n",
       "      <td>52.591172</td>\n",
       "      <td>51.776157</td>\n",
       "      <td>39.290177</td>\n",
       "      <td>6.268188</td>\n",
       "      <td>0.469821</td>\n",
       "    </tr>\n",
       "    <tr>\n",
       "      <th>Infubinol</th>\n",
       "      <td>52.884795</td>\n",
       "      <td>51.820584</td>\n",
       "      <td>43.128684</td>\n",
       "      <td>6.567243</td>\n",
       "      <td>0.492236</td>\n",
       "    </tr>\n",
       "    <tr>\n",
       "      <th>Ketapril</th>\n",
       "      <td>55.235638</td>\n",
       "      <td>53.698743</td>\n",
       "      <td>68.553577</td>\n",
       "      <td>8.279709</td>\n",
       "      <td>0.603860</td>\n",
       "    </tr>\n",
       "    <tr>\n",
       "      <th>Naftisol</th>\n",
       "      <td>54.331565</td>\n",
       "      <td>52.509285</td>\n",
       "      <td>66.173479</td>\n",
       "      <td>8.134708</td>\n",
       "      <td>0.596466</td>\n",
       "    </tr>\n",
       "    <tr>\n",
       "      <th>Placebo</th>\n",
       "      <td>54.033581</td>\n",
       "      <td>52.288934</td>\n",
       "      <td>61.168083</td>\n",
       "      <td>7.821003</td>\n",
       "      <td>0.581331</td>\n",
       "    </tr>\n",
       "    <tr>\n",
       "      <th>Propriva</th>\n",
       "      <td>52.393463</td>\n",
       "      <td>50.909965</td>\n",
       "      <td>43.138803</td>\n",
       "      <td>6.568014</td>\n",
       "      <td>0.525862</td>\n",
       "    </tr>\n",
       "    <tr>\n",
       "      <th>Ramicane</th>\n",
       "      <td>40.216745</td>\n",
       "      <td>40.673236</td>\n",
       "      <td>23.486704</td>\n",
       "      <td>4.846308</td>\n",
       "      <td>0.320955</td>\n",
       "    </tr>\n",
       "    <tr>\n",
       "      <th>Stelasyn</th>\n",
       "      <td>54.233149</td>\n",
       "      <td>52.431737</td>\n",
       "      <td>59.450562</td>\n",
       "      <td>7.710419</td>\n",
       "      <td>0.573111</td>\n",
       "    </tr>\n",
       "    <tr>\n",
       "      <th>Zoniferol</th>\n",
       "      <td>53.236507</td>\n",
       "      <td>51.818479</td>\n",
       "      <td>48.533355</td>\n",
       "      <td>6.966589</td>\n",
       "      <td>0.516398</td>\n",
       "    </tr>\n",
       "  </tbody>\n",
       "</table>\n",
       "</div>"
      ],
      "text/plain": [
       "              Tumor Volume (mm3) - Mean  Tumor Volume (mm3) - Median  \\\n",
       "Drug Regimen                                                           \n",
       "Capomulin                     40.675741                    41.557809   \n",
       "Ceftamin                      52.591172                    51.776157   \n",
       "Infubinol                     52.884795                    51.820584   \n",
       "Ketapril                      55.235638                    53.698743   \n",
       "Naftisol                      54.331565                    52.509285   \n",
       "Placebo                       54.033581                    52.288934   \n",
       "Propriva                      52.393463                    50.909965   \n",
       "Ramicane                      40.216745                    40.673236   \n",
       "Stelasyn                      54.233149                    52.431737   \n",
       "Zoniferol                     53.236507                    51.818479   \n",
       "\n",
       "              Tumor Volume (mm3) - VAR  Tumor Volume (mm3) - STD  \\\n",
       "Drug Regimen                                                       \n",
       "Capomulin                    24.947764                  4.994774   \n",
       "Ceftamin                     39.290177                  6.268188   \n",
       "Infubinol                    43.128684                  6.567243   \n",
       "Ketapril                     68.553577                  8.279709   \n",
       "Naftisol                     66.173479                  8.134708   \n",
       "Placebo                      61.168083                  7.821003   \n",
       "Propriva                     43.138803                  6.568014   \n",
       "Ramicane                     23.486704                  4.846308   \n",
       "Stelasyn                     59.450562                  7.710419   \n",
       "Zoniferol                    48.533355                  6.966589   \n",
       "\n",
       "              Tumor Volume (mm3) - SEM  \n",
       "Drug Regimen                            \n",
       "Capomulin                     0.329346  \n",
       "Ceftamin                      0.469821  \n",
       "Infubinol                     0.492236  \n",
       "Ketapril                      0.603860  \n",
       "Naftisol                      0.596466  \n",
       "Placebo                       0.581331  \n",
       "Propriva                      0.525862  \n",
       "Ramicane                      0.320955  \n",
       "Stelasyn                      0.573111  \n",
       "Zoniferol                     0.516398  "
      ]
     },
     "execution_count": 8,
     "metadata": {},
     "output_type": "execute_result"
    }
   ],
   "source": [
    "# Generate a summary statistics table of mean, median, variance, standard deviation, and SEM of the tumor volume for each regimen\n",
    "# This method produces everything in a single groupby function\n",
    "mouse_results_df2 = mouse_results_df\n",
    "regimen_groups2 = mouse_results_df2.groupby([\"Drug Regimen\"])\n",
    "\n",
    "mouse_results_df2 = regimen_groups2[\"Tumor Volume (mm3)\"].describe()\n",
    "mouse_results_df2.drop(columns = [\"count\", \"25%\", \"50%\", \"75%\", \"max\", \"min\"], inplace = True)\n",
    "\n",
    "#Add additional summary statistics columns\n",
    "mouse_results_df2[\"Tumor Volume (mm3) - Median\"] = regimen_groups2[\"Tumor Volume (mm3)\"].median()\n",
    "mouse_results_df2[\"Tumor Volume (mm3) - VAR\"] = regimen_groups2[\"Tumor Volume (mm3)\"].var()\n",
    "mouse_results_df2[\"Tumor Volume (mm3) - SEM\"] = regimen_groups2[\"Tumor Volume (mm3)\"].sem()\n",
    "\n",
    "# Rename first two columns\n",
    "mouse_results_df2.rename(columns = {\"mean\" : \"Tumor Volume (mm3) - Mean\", \"std\" : \"Tumor Volume (mm3) - STD\"}, inplace = True)\n",
    "# # Reorder columns\n",
    "mouse_results_df2 = mouse_results_df2[[\"Tumor Volume (mm3) - Mean\",\"Tumor Volume (mm3) - Median\",\n",
    "                                       \"Tumor Volume (mm3) - VAR\",\"Tumor Volume (mm3) - STD\",\"Tumor Volume (mm3) - SEM\"]]\n",
    "mouse_results_df2"
   ]
  },
  {
   "cell_type": "markdown",
   "metadata": {},
   "source": [
    "## Bar and Pie Charts"
   ]
  },
  {
   "cell_type": "code",
   "execution_count": 43,
   "metadata": {},
   "outputs": [
    {
     "data": {
      "image/png": "[encoded data removed]",
      "text/plain": [
       "<Figure size 864x288 with 1 Axes>"
      ]
     },
     "metadata": {
      "needs_background": "light"
     },
     "output_type": "display_data"
    }
   ],
   "source": [
    "# Generate a bar plot showing the total number of mice for each treatment throughout the course of the study using pandas. \n",
    "plot_mice_df = regimen_groups[\"Mouse ID\"].count()\n",
    "plot_mice_df =pd.DataFrame(plot_mice_df)\n",
    "plot_mice_df\n",
    "\n",
    "#Use pandas to plot the bar chart\n",
    "mice_used_plot = plot_mice_df.plot(kind=\"bar\", figsize=(12,4), use_index=True, color=\"blue\", width=0.65)\n",
    "\n",
    "#Set the titles and labels\n",
    "mice_used_plot.set_xticklabels(plot_mice_df.index, rotation=45)\n",
    "mice_used_plot.set_xlabel(\"Drug Regimen\")\n",
    "mice_used_plot.set_ylabel(\"Number of Mice Used\")\n",
    "mice_used_plot.set_title(\"Number of Mice for Each Treatment\")\n",
    "\n",
    "plt.show()"
   ]
  },
  {
   "cell_type": "code",
   "execution_count": 10,
   "metadata": {},
   "outputs": [
    {
     "data": {
      "image/png": "[encoded data removed]",
      "text/plain": [
       "<Figure size 864x288 with 1 Axes>"
      ]
     },
     "metadata": {
      "needs_background": "light"
     },
     "output_type": "display_data"
    }
   ],
   "source": [
    "# Generate a bar plot showing the total number of mice for each treatment throughout the course of the study using pyplot.\n",
    "plot_mice_df = regimen_groups[\"Mouse ID\"].count()\n",
    "plot_mice_df =pd.DataFrame(plot_mice_df)\n",
    "plot_mice_df\n",
    "\n",
    "x_axis = np.arange(len(plot_mice_df))\n",
    "tick_locations = [value for value in x_axis]\n",
    "\n",
    "plt.figure(figsize=(12,4))\n",
    "#Use pyplot to plot the bar chart\n",
    "plt.bar(x_axis, plot_mice_df[\"Mouse ID\"], color=\"blue\", align = \"center\", width=0.65)\n",
    "\n",
    "#Set the titles and labels\n",
    "plt.xticks(tick_locations, plot_mice_df.index.values, rotation=45)\n",
    "plt.title(\"Number of Mice for Each Treatment\")\n",
    "plt.xlabel(\"Drug Regimen\")\n",
    "plt.ylabel(\"Number of Mice Used\")\n",
    "\n",
    "plt.savefig(\"Images/Mice_used_by_treatments.png\")\n",
    "plt.show()\n"
   ]
  },
  {
   "cell_type": "code",
   "execution_count": 11,
   "metadata": {},
   "outputs": [
    {
     "data": {
      "text/plain": [
       "Text(0.5, 1.0, '% of Male to Female Mice')"
      ]
     },
     "execution_count": 11,
     "metadata": {},
     "output_type": "execute_result"
    },
    {
     "data": {
      "image/png": "[encoded data removed]",
      "text/plain": [
       "<Figure size 864x288 with 1 Axes>"
      ]
     },
     "metadata": {},
     "output_type": "display_data"
    }
   ],
   "source": [
    "# Generate a pie plot showing the distribution of female versus male mice using pandas\n",
    "\n",
    "# Create a dataframe of Mouse ID's and the sex of each mouse\n",
    "plot_male_female = mouse_results_df.groupby(\"Mouse ID\")\n",
    "mouse_gender_df = plot_male_female[\"Sex\"].first()\n",
    "mouse_gender_count_df = pd.DataFrame(mouse_gender_df)\n",
    "\n",
    "# Create a dataframe that groups the mouse gender and provides a count of each gender\n",
    "mouse_gender_count = mouse_gender_count_df.groupby(\"Sex\")\n",
    "mouse_gender_count_df = mouse_gender_count[\"Sex\"].count()\n",
    "m_gender_count_df = pd.DataFrame(mouse_gender_count_df)\n",
    "m_gender_count_df.rename(columns = {\"Sex\" : \"Mouse Count\"}, inplace = True)\n",
    "m_gender_count_df\n",
    "\n",
    "colors = [\"cyan\" , \"orange\"]\n",
    "\n",
    "# plot a pie plot using pandas\n",
    "m_gender_count_df.plot(kind=\"pie\", y=\"Mouse Count\", figsize=(12,4), autopct=\"%1.1f%%\", \n",
    "                       explode = [0.1, 0], startangle = 220, shadow=True, colors=colors)\n",
    "\n",
    "plt.title(\"% of Male to Female Mice\")\n",
    "\n"
   ]
  },
  {
   "cell_type": "code",
   "execution_count": 12,
   "metadata": {},
   "outputs": [
    {
     "data": {
      "text/plain": [
       "<matplotlib.legend.Legend at 0x2288b8ae388>"
      ]
     },
     "execution_count": 12,
     "metadata": {},
     "output_type": "execute_result"
    },
    {
     "data": {
      "image/png": "[encoded data removed]",
      "text/plain": [
       "<Figure size 432x288 with 1 Axes>"
      ]
     },
     "metadata": {},
     "output_type": "display_data"
    }
   ],
   "source": [
    "# Generate a pie plot showing the distribution of female versus male mice using pyplot\n",
    "\n",
    "# Create a dataframe of Mouse ID's and the sex of each mouse\n",
    "plot_male_female = mouse_results_df.groupby(\"Mouse ID\")\n",
    "mouse_gender_df = plot_male_female[\"Sex\"].first()\n",
    "mouse_gender_count_df = pd.DataFrame(mouse_gender_df)\n",
    "\n",
    "# Create a dataframe that groups the mouse gender and provides a count of each gender\n",
    "mouse_gender_count = mouse_gender_count_df.groupby(\"Sex\")\n",
    "mouse_gender_count_df = mouse_gender_count[\"Sex\"].count()\n",
    "m_gender_count_df = pd.DataFrame(mouse_gender_count_df)\n",
    "m_gender_count_df.rename(columns = {\"Sex\" : \"Mouse Count\"}, inplace = True)\n",
    "m_gender_count_df\n",
    "\n",
    "labels = m_gender_count_df.index\n",
    "sizes = m_gender_count_df[\"Mouse Count\"]\n",
    "colors = [\"cyan\" , \"orange\"]\n",
    "\n",
    "# plot a pie plot using pyplot\n",
    "plt.pie(sizes, labels=labels, colors=colors, shadow=True, autopct=\"%1.1f%%\", explode = [0.1, 0], startangle=220)\n",
    "\n",
    "plt.title(\"% of Male to Female Mice\")\n",
    "plt.ylabel(\"Mouse Count\")\n",
    "plt.legend()\n",
    "\n"
   ]
  },
  {
   "cell_type": "markdown",
   "metadata": {},
   "source": [
    "## Quartiles, Outliers and Boxplots"
   ]
  },
  {
   "cell_type": "code",
   "execution_count": 13,
   "metadata": {},
   "outputs": [
    {
     "data": {
      "text/html": [
       "<div>\n",
       "<style scoped>\n",
       "    .dataframe tbody tr th:only-of-type {\n",
       "        vertical-align: middle;\n",
       "    }\n",
       "\n",
       "    .dataframe tbody tr th {\n",
       "        vertical-align: top;\n",
       "    }\n",
       "\n",
       "    .dataframe thead th {\n",
       "        text-align: right;\n",
       "    }\n",
       "</style>\n",
       "<table border=\"1\" class=\"dataframe\">\n",
       "  <thead>\n",
       "    <tr style=\"text-align: right;\">\n",
       "      <th></th>\n",
       "      <th>Mouse ID</th>\n",
       "      <th>Drug Regimen</th>\n",
       "      <th>Sex</th>\n",
       "      <th>Age_months</th>\n",
       "      <th>Timepoint_max</th>\n",
       "      <th>Tumor Volume (mm3)</th>\n",
       "      <th>Metastatic Sites</th>\n",
       "    </tr>\n",
       "    <tr>\n",
       "      <th>Mouse ID</th>\n",
       "      <th></th>\n",
       "      <th></th>\n",
       "      <th></th>\n",
       "      <th></th>\n",
       "      <th></th>\n",
       "      <th></th>\n",
       "      <th></th>\n",
       "    </tr>\n",
       "  </thead>\n",
       "  <tbody>\n",
       "    <tr>\n",
       "      <th>a203</th>\n",
       "      <td>a203</td>\n",
       "      <td>Infubinol</td>\n",
       "      <td>Female</td>\n",
       "      <td>20</td>\n",
       "      <td>45</td>\n",
       "      <td>67.973419</td>\n",
       "      <td>2</td>\n",
       "    </tr>\n",
       "    <tr>\n",
       "      <th>a251</th>\n",
       "      <td>a251</td>\n",
       "      <td>Infubinol</td>\n",
       "      <td>Female</td>\n",
       "      <td>21</td>\n",
       "      <td>45</td>\n",
       "      <td>65.525743</td>\n",
       "      <td>1</td>\n",
       "    </tr>\n",
       "    <tr>\n",
       "      <th>a275</th>\n",
       "      <td>a275</td>\n",
       "      <td>Ceftamin</td>\n",
       "      <td>Female</td>\n",
       "      <td>20</td>\n",
       "      <td>45</td>\n",
       "      <td>62.999356</td>\n",
       "      <td>3</td>\n",
       "    </tr>\n",
       "    <tr>\n",
       "      <th>a411</th>\n",
       "      <td>a411</td>\n",
       "      <td>Ramicane</td>\n",
       "      <td>Male</td>\n",
       "      <td>3</td>\n",
       "      <td>45</td>\n",
       "      <td>45.466677</td>\n",
       "      <td>1</td>\n",
       "    </tr>\n",
       "    <tr>\n",
       "      <th>a444</th>\n",
       "      <td>a444</td>\n",
       "      <td>Ramicane</td>\n",
       "      <td>Female</td>\n",
       "      <td>10</td>\n",
       "      <td>45</td>\n",
       "      <td>45.000000</td>\n",
       "      <td>0</td>\n",
       "    </tr>\n",
       "  </tbody>\n",
       "</table>\n",
       "</div>"
      ],
      "text/plain": [
       "         Mouse ID Drug Regimen     Sex  Age_months  Timepoint_max  \\\n",
       "Mouse ID                                                            \n",
       "a203         a203    Infubinol  Female          20             45   \n",
       "a251         a251    Infubinol  Female          21             45   \n",
       "a275         a275     Ceftamin  Female          20             45   \n",
       "a411         a411     Ramicane    Male           3             45   \n",
       "a444         a444     Ramicane  Female          10             45   \n",
       "\n",
       "          Tumor Volume (mm3)  Metastatic Sites  \n",
       "Mouse ID                                        \n",
       "a203               67.973419                 2  \n",
       "a251               65.525743                 1  \n",
       "a275               62.999356                 3  \n",
       "a411               45.466677                 1  \n",
       "a444               45.000000                 0  "
      ]
     },
     "execution_count": 13,
     "metadata": {},
     "output_type": "execute_result"
    }
   ],
   "source": [
    "# Calculate the final tumor volume of each mouse across four of the treatment regimens:  \n",
    "# Capomulin, Ramicane, Infubinol, and Ceftamin\n",
    "treatments = [\"Capomulin\", \"Ramicane\", \"Infubinol\", \"Ceftamin\"]\n",
    "treatment_filter=mouse_results_df[\"Drug Regimen\"].isin(treatments)\n",
    "four_treatment_df = mouse_results_df[treatment_filter]\n",
    "four_treatment_df\n",
    "\n",
    "# Start by getting the last (greatest) timepoint for each mouse\n",
    "group_four_treatments = four_treatment_df.groupby(\"Mouse ID\")\n",
    "four_treatment_tp_df = group_four_treatments[\"Timepoint\"].max()\n",
    "four_treatment_tp_df\n",
    "\n",
    "\n",
    "# Merge this group df with the original dataframe to get the tumor volume at the last timepoint\n",
    "four_treatment_reg_df = pd.merge(four_treatment_df, four_treatment_tp_df, on=\"Mouse ID\", how=\"left\", suffixes=[\"_original\", \"_max\"])\n",
    "four_treatment = four_treatment_reg_df.groupby(\"Mouse ID\")\n",
    "four_treatment_reg_df = four_treatment[[\"Mouse ID\",\"Drug Regimen\",\"Sex\",\"Age_months\",\"Timepoint_max\",\"Tumor Volume (mm3)\",\"Metastatic Sites\"]].max()\n",
    "four_treatment_reg_df.head()"
   ]
  },
  {
   "cell_type": "code",
   "execution_count": 14,
   "metadata": {},
   "outputs": [
    {
     "name": "stdout",
     "output_type": "stream",
     "text": [
      "The lower quartile of Tumor Volume (mm3) is: 45.5\n",
      "The upper quartile of Tumor Volume (mm3) is: 59.9\n",
      "The interquartile range of Tumor Volume (mm3) is: 14.4\n",
      "\n",
      "Values below 23.9 could be outliers.\n",
      "Values above 81.6 could be outlers.\n"
     ]
    }
   ],
   "source": [
    "# Put treatments into a list for for loop (and later for plot labels)\n",
    "treatment_list = []\n",
    "\n",
    "# Create a treatment object in the df to loop through\n",
    "treatment = four_treatment_reg_df.groupby(\"Drug Regimen\")\n",
    "\n",
    "# Create a list comprehension to populate the treatment_list array\n",
    "treatment_list = [treatments for treatments, data in treatment]\n",
    "\n",
    "# Create empty list to fill with tumor vol data (for plotting)\n",
    "tumor_vol_data = []\n",
    "\n",
    "# Calculate the IQR and quantitatively determine if there are any potential outliers. \n",
    "tumor_volume = four_treatment_reg_df[\"Tumor Volume (mm3)\"]\n",
    "quartiles = tumor_volume.quantile([.25, .5, .75])\n",
    "lowerq = quartiles[.25]\n",
    "upperq = quartiles[.75]\n",
    "iqr = upperq-lowerq\n",
    "\n",
    "print(f'The lower quartile of Tumor Volume (mm3) is: {round(lowerq,1)}')\n",
    "print(f'The upper quartile of Tumor Volume (mm3) is: {round(upperq,1)}')\n",
    "print(f'The interquartile range of Tumor Volume (mm3) is: {round(iqr,1)}')\n",
    "    \n",
    "# Locate the rows which contain mice on each drug and get the tumor volumes\n",
    "# Create a tumor_vol object in the df to loop through\n",
    "tumor_vol = four_treatment_reg_df.groupby(\"Tumor Volume (mm3)\")\n",
    "\n",
    "# Create a list comprehension to populate the tumor_vol_data list array\n",
    "tumor_vol_data = [tvolumes for tvolumes, data in tumor_vol]    \n",
    "    \n",
    "# add subset \n",
    "    \n",
    "    \n",
    "# Determine outliers using upper and lower bounds\n",
    "lower_bound = lowerq - (1.5*iqr)\n",
    "upper_bound = upperq + (1.5*iqr)\n",
    "print(f'\\nValues below {round(lower_bound,1)} could be outliers.')\n",
    "print(f'Values above {round(upper_bound,1)} could be outlers.')\n",
    "\n",
    "    "
   ]
  },
  {
   "cell_type": "code",
   "execution_count": 35,
   "metadata": {
    "scrolled": true
   },
   "outputs": [
    {
     "data": {
      "image/png": "[encoded data removed]",
      "text/plain": [
       "<Figure size 1008x288 with 1 Axes>"
      ]
     },
     "metadata": {
      "needs_background": "light"
     },
     "output_type": "display_data"
    }
   ],
   "source": [
    "# Generate a box plot of the final tumor volume of each mouse across four regimens of interest\n",
    "\n",
    "four_treatment_reg_df.boxplot(by=\"Drug Regimen\", column=\"Tumor Volume (mm3)\", figsize=(14,4), rot=0, grid=True)\n",
    "plt.title(\"\")\n",
    "plt.ylabel(\"Tumor Size (mm3)\")\n",
    "\n",
    "plt.show()"
   ]
  },
  {
   "cell_type": "markdown",
   "metadata": {},
   "source": [
    "## Line and Scatter Plots"
   ]
  },
  {
   "cell_type": "code",
   "execution_count": 16,
   "metadata": {},
   "outputs": [
    {
     "data": {
      "text/plain": [
       "Text(0, 0.5, 'Tumor Volume (mm3)')"
      ]
     },
     "execution_count": 16,
     "metadata": {},
     "output_type": "execute_result"
    },
    {
     "data": {
      "image/png": "[encoded data removed]",
      "text/plain": [
       "<Figure size 1008x288 with 1 Axes>"
      ]
     },
     "metadata": {
      "needs_background": "light"
     },
     "output_type": "display_data"
    }
   ],
   "source": [
    "# Generate a line plot of time point versus tumor volume for a mouse treated with Capomulin\n",
    "\n",
    "# Filter the dataframe for mice treated with Capomulin\n",
    "mouse_results_capo_m_df = mouse_results_df[mouse_results_df[\"Drug Regimen\"] == \"Capomulin\"]\n",
    "mouse_results_capo_m_df\n",
    "mouse_results_capo_m_df = mouse_results_capo_m_df[mouse_results_capo_m_df[\"Mouse ID\"] == \"s185\"]\n",
    "mouse_results_capo_m_df\n",
    "\n",
    "m_id = mouse_results_capo_m_df[\"Mouse ID\"].iloc[1]\n",
    "\n",
    "#Group the dataframe by Timepoint and pull the average Tumor Volume\n",
    "timepoint = mouse_results_capo_m_df.groupby(\"Timepoint\")\n",
    "mouse_results_capo_m_df = timepoint[\"Tumor Volume (mm3)\"].mean()\n",
    "mouse_results_capo_m_df = pd.DataFrame(mouse_results_capo_m_df)\n",
    "mouse_results_capo_m_df\n",
    "\n",
    "mouse_results_capo_m_df.plot(kind=\"line\", y=\"Tumor Volume (mm3)\", figsize=(14,4), grid=True)\n",
    "\n",
    "plt.title(f\"Timepoint vs Tumor Volume for Mouse ID '{m_id}' Treated with Capomulin\")\n",
    "plt.ylabel(\"Tumor Volume (mm3)\")\n"
   ]
  },
  {
   "cell_type": "code",
   "execution_count": 17,
   "metadata": {},
   "outputs": [
    {
     "data": {
      "text/plain": [
       "Text(22, 39, 'y = 0.89x + 22.76')"
      ]
     },
     "execution_count": 17,
     "metadata": {},
     "output_type": "execute_result"
    },
    {
     "data": {
      "image/png": "[encoded data removed]",
      "text/plain": [
       "<Figure size 720x288 with 1 Axes>"
      ]
     },
     "metadata": {
      "needs_background": "light"
     },
     "output_type": "display_data"
    }
   ],
   "source": [
    "# Generate a scatter plot of mouse weight versus average tumor volume for the Capomulin regimen\n",
    "\n",
    "# Filter the dataframe for mice treated with Capomulin\n",
    "capo_filter = mouse_results_df[\"Drug Regimen\"] == \"Capomulin\"\n",
    "mouse_results_capo_weight_df = mouse_results_df[capo_filter]\n",
    "mouse_results_capo_weight_df\n",
    "\n",
    "#Group the dataframe by weight and pull the average Tumor Volume\n",
    "m_weight = mouse_results_capo_weight_df.groupby(\"Weight (g)\")\n",
    "mouse_results_capo_weight_df = m_weight[\"Tumor Volume (mm3)\"].mean()\n",
    "mouse_results_capo_weight_df = pd.DataFrame(mouse_results_capo_weight_df)\n",
    "mouse_results_capo_weight_df = mouse_results_capo_weight_df.reset_index()\n",
    "mouse_results_capo_weight_df\n",
    "\n",
    "\n",
    "# Create a scatter plot\n",
    "plt.figure(figsize=(10,4))\n",
    "plt.grid()\n",
    "plt.scatter(mouse_results_capo_weight_df.iloc[:,0], mouse_results_capo_weight_df.iloc[:,1])\n",
    "\n",
    "# Add title and labels\n",
    "plt.title(\"Weight (g) vs Avg Tumor Volume for Capomulin Regimen\")\n",
    "plt.ylabel(\"Tumor Volume (mm3)\")\n",
    "plt.xlabel(\"Weight (g)\")\n",
    "\n",
    "# Calculate the linear regression line\n",
    "x_values = mouse_results_capo_weight_df.iloc[:,0]\n",
    "y_values = mouse_results_capo_weight_df.iloc[:,1]\n",
    "(slope, intercept, rvalue, pvalue, stderr) = linregress(x_values, y_values)\n",
    "regress_values = x_values * slope + intercept\n",
    "line_eq = \"y = \" + str(round(slope,2)) + \"x + \" + str(round(intercept,2))\n",
    "\n",
    "# Insert the linear regression line\n",
    "plt.plot(x_values,regress_values,\"r-\")\n",
    "plt.annotate(line_eq,(22,39),fontsize=15,color=\"red\")"
   ]
  },
  {
   "cell_type": "markdown",
   "metadata": {},
   "source": [
    "## Correlation and Regression"
   ]
  },
  {
   "cell_type": "code",
   "execution_count": 18,
   "metadata": {},
   "outputs": [
    {
     "name": "stdout",
     "output_type": "stream",
     "text": [
      "The correlation between weight and tumor_volume is: 0.95\n"
     ]
    }
   ],
   "source": [
    "# Calculate the correlation coefficient and linear regression model \n",
    "# for mouse weight and average tumor volume for the Capomulin regimen\n",
    "weight = mouse_results_capo_weight_df.iloc[:,0]\n",
    "tumor_volume = mouse_results_capo_weight_df.iloc[:,1]\n",
    "correlation = st.pearsonr(weight, tumor_volume)\n",
    "print(f'The correlation between weight and tumor_volume is: {round(correlation[0],2)}')"
   ]
  },
  {
   "cell_type": "code",
   "execution_count": null,
   "metadata": {},
   "outputs": [],
   "source": []
  },
  {
   "cell_type": "code",
   "execution_count": null,
   "metadata": {},
   "outputs": [],
   "source": []
  },
  {
   "cell_type": "code",
   "execution_count": null,
   "metadata": {},
   "outputs": [],
   "source": []
  },
  {
   "cell_type": "code",
   "execution_count": null,
   "metadata": {},
   "outputs": [],
   "source": []
  }
 ],
 "metadata": {
  "anaconda-cloud": {},
  "kernelspec": {
   "display_name": "Python 3",
   "language": "python",
   "name": "python3"
  },
  "language_info": {
   "codemirror_mode": {
    "name": "ipython",
    "version": 3
   },
   "file_extension": ".py",
   "mimetype": "text/x-python",
   "name": "python",
   "nbconvert_exporter": "python",
   "pygments_lexer": "ipython3",
   "version": "3.7.6"
  }
 },
 "nbformat": 4,
 "nbformat_minor": 2
}
